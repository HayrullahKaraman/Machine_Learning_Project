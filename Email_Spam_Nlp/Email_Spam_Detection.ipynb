{
 "cells": [
  {
   "cell_type": "markdown",
   "id": "359055ef-aced-4814-87b7-5d4a0b961155",
   "metadata": {
    "jp-MarkdownHeadingCollapsed": true,
    "tags": []
   },
   "source": [
    "## İmport Libary Ana Dataset"
   ]
  },
  {
   "cell_type": "markdown",
   "id": "18783a86-b274-4ab3-86ee-381516b20059",
   "metadata": {},
   "source": [
    "import nltk  \n",
    "    nltk.download('all')"
   ]
  },
  {
   "cell_type": "code",
   "execution_count": 52,
   "id": "b1deec1c-f076-479c-8c98-ce13fa13c9ed",
   "metadata": {},
   "outputs": [],
   "source": [
    "#Stadard Libary\n",
    "import pandas as pd\n",
    "import numpy as np\n",
    "import matplotlib.pyplot as plt\n",
    "import seaborn as sns\n",
    "import time\n",
    "\n",
    "#For Ml libary\n",
    "from sklearn.model_selection import train_test_split\n",
    "from sklearn.preprocessing import StandardScaler\n",
    "from sklearn.naive_bayes import MultinomialNB\n",
    "from sklearn.naive_bayes import BernoulliNB\n",
    "from sklearn.linear_model import LogisticRegression\n",
    "from xgboost import XGBClassifier\n",
    "from sklearn.svm import LinearSVC\n",
    "from sklearn.metrics import classification_report, accuracy_score\n",
    "from sklearn.metrics import confusion_matrix\n",
    "from sklearn.metrics import accuracy_score, precision_score, recall_score, f1_score\n",
    "from sklearn.metrics import precision_recall_curve\n",
    "from sklearn.metrics import roc_curve\n",
    "\n",
    "#For Nlp Libary \n",
    "import re\n",
    "import string\n",
    "import nltk  \n",
    "from nltk import LancasterStemmer\n",
    "from textblob import TextBlob\n",
    "from nltk.tokenize import RegexpTokenizer\n",
    "from nltk.stem import WordNetLemmatizer,PorterStemmer\n",
    "from nltk.corpus import stopwords\n",
    "from sklearn.feature_extraction.text import CountVectorizer\n",
    "from sklearn.feature_extraction.text import TfidfVectorizer\n",
    "from wordcloud import WordCloud\n",
    "#Model Savin\n",
    "from joblib import dump, load\n",
    "from sklearn.pipeline import Pipeline\n",
    "\n",
    "#İgnore Error\n",
    "import warnings\n",
    "warnings.simplefilter(action=\"ignore\")\n",
    "%matplotlib inline\n",
    "plt.rcParams['figure.figsize'] = [4, 4]\n",
    "#plt.figure(figsize =(5, 3))"
   ]
  },
  {
   "cell_type": "code",
   "execution_count": 2,
   "id": "484271d6-53d9-4f7a-8213-04f6af171d3a",
   "metadata": {},
   "outputs": [],
   "source": [
    "df=pd.read_csv('spam_ham_dataset.csv')"
   ]
  },
  {
   "cell_type": "markdown",
   "id": "edb08371-956f-49c3-adc1-79bbc78ca3f0",
   "metadata": {
    "jp-MarkdownHeadingCollapsed": true,
    "tags": []
   },
   "source": [
    "## Check Dataset"
   ]
  },
  {
   "cell_type": "code",
   "execution_count": 3,
   "id": "df0461dc-3a88-4535-83df-ce33ef4a53ef",
   "metadata": {},
   "outputs": [
    {
     "data": {
      "text/html": [
       "<div>\n",
       "<style scoped>\n",
       "    .dataframe tbody tr th:only-of-type {\n",
       "        vertical-align: middle;\n",
       "    }\n",
       "\n",
       "    .dataframe tbody tr th {\n",
       "        vertical-align: top;\n",
       "    }\n",
       "\n",
       "    .dataframe thead th {\n",
       "        text-align: right;\n",
       "    }\n",
       "</style>\n",
       "<table border=\"1\" class=\"dataframe\">\n",
       "  <thead>\n",
       "    <tr style=\"text-align: right;\">\n",
       "      <th></th>\n",
       "      <th>Unnamed: 0</th>\n",
       "      <th>label</th>\n",
       "      <th>text</th>\n",
       "      <th>label_num</th>\n",
       "    </tr>\n",
       "  </thead>\n",
       "  <tbody>\n",
       "    <tr>\n",
       "      <th>0</th>\n",
       "      <td>605</td>\n",
       "      <td>ham</td>\n",
       "      <td>Subject: enron methanol ; meter # : 988291\\r\\n...</td>\n",
       "      <td>0</td>\n",
       "    </tr>\n",
       "    <tr>\n",
       "      <th>1</th>\n",
       "      <td>2349</td>\n",
       "      <td>ham</td>\n",
       "      <td>Subject: hpl nom for january 9 , 2001\\r\\n( see...</td>\n",
       "      <td>0</td>\n",
       "    </tr>\n",
       "    <tr>\n",
       "      <th>2</th>\n",
       "      <td>3624</td>\n",
       "      <td>ham</td>\n",
       "      <td>Subject: neon retreat\\r\\nho ho ho , we ' re ar...</td>\n",
       "      <td>0</td>\n",
       "    </tr>\n",
       "    <tr>\n",
       "      <th>3</th>\n",
       "      <td>4685</td>\n",
       "      <td>spam</td>\n",
       "      <td>Subject: photoshop , windows , office . cheap ...</td>\n",
       "      <td>1</td>\n",
       "    </tr>\n",
       "    <tr>\n",
       "      <th>4</th>\n",
       "      <td>2030</td>\n",
       "      <td>ham</td>\n",
       "      <td>Subject: re : indian springs\\r\\nthis deal is t...</td>\n",
       "      <td>0</td>\n",
       "    </tr>\n",
       "    <tr>\n",
       "      <th>...</th>\n",
       "      <td>...</td>\n",
       "      <td>...</td>\n",
       "      <td>...</td>\n",
       "      <td>...</td>\n",
       "    </tr>\n",
       "    <tr>\n",
       "      <th>5166</th>\n",
       "      <td>1518</td>\n",
       "      <td>ham</td>\n",
       "      <td>Subject: put the 10 on the ft\\r\\nthe transport...</td>\n",
       "      <td>0</td>\n",
       "    </tr>\n",
       "    <tr>\n",
       "      <th>5167</th>\n",
       "      <td>404</td>\n",
       "      <td>ham</td>\n",
       "      <td>Subject: 3 / 4 / 2000 and following noms\\r\\nhp...</td>\n",
       "      <td>0</td>\n",
       "    </tr>\n",
       "    <tr>\n",
       "      <th>5168</th>\n",
       "      <td>2933</td>\n",
       "      <td>ham</td>\n",
       "      <td>Subject: calpine daily gas nomination\\r\\n&gt;\\r\\n...</td>\n",
       "      <td>0</td>\n",
       "    </tr>\n",
       "    <tr>\n",
       "      <th>5169</th>\n",
       "      <td>1409</td>\n",
       "      <td>ham</td>\n",
       "      <td>Subject: industrial worksheets for august 2000...</td>\n",
       "      <td>0</td>\n",
       "    </tr>\n",
       "    <tr>\n",
       "      <th>5170</th>\n",
       "      <td>4807</td>\n",
       "      <td>spam</td>\n",
       "      <td>Subject: important online banking alert\\r\\ndea...</td>\n",
       "      <td>1</td>\n",
       "    </tr>\n",
       "  </tbody>\n",
       "</table>\n",
       "<p>5171 rows × 4 columns</p>\n",
       "</div>"
      ],
      "text/plain": [
       "      Unnamed: 0 label                                               text  \\\n",
       "0            605   ham  Subject: enron methanol ; meter # : 988291\\r\\n...   \n",
       "1           2349   ham  Subject: hpl nom for january 9 , 2001\\r\\n( see...   \n",
       "2           3624   ham  Subject: neon retreat\\r\\nho ho ho , we ' re ar...   \n",
       "3           4685  spam  Subject: photoshop , windows , office . cheap ...   \n",
       "4           2030   ham  Subject: re : indian springs\\r\\nthis deal is t...   \n",
       "...          ...   ...                                                ...   \n",
       "5166        1518   ham  Subject: put the 10 on the ft\\r\\nthe transport...   \n",
       "5167         404   ham  Subject: 3 / 4 / 2000 and following noms\\r\\nhp...   \n",
       "5168        2933   ham  Subject: calpine daily gas nomination\\r\\n>\\r\\n...   \n",
       "5169        1409   ham  Subject: industrial worksheets for august 2000...   \n",
       "5170        4807  spam  Subject: important online banking alert\\r\\ndea...   \n",
       "\n",
       "      label_num  \n",
       "0             0  \n",
       "1             0  \n",
       "2             0  \n",
       "3             1  \n",
       "4             0  \n",
       "...         ...  \n",
       "5166          0  \n",
       "5167          0  \n",
       "5168          0  \n",
       "5169          0  \n",
       "5170          1  \n",
       "\n",
       "[5171 rows x 4 columns]"
      ]
     },
     "execution_count": 3,
     "metadata": {},
     "output_type": "execute_result"
    }
   ],
   "source": [
    "df"
   ]
  },
  {
   "cell_type": "code",
   "execution_count": 4,
   "id": "0130e6ab-5b90-4bb2-b0cd-a23672df5046",
   "metadata": {},
   "outputs": [
    {
     "name": "stdout",
     "output_type": "stream",
     "text": [
      "<class 'pandas.core.frame.DataFrame'>\n",
      "RangeIndex: 5171 entries, 0 to 5170\n",
      "Data columns (total 4 columns):\n",
      " #   Column      Non-Null Count  Dtype \n",
      "---  ------      --------------  ----- \n",
      " 0   Unnamed: 0  5171 non-null   int64 \n",
      " 1   label       5171 non-null   object\n",
      " 2   text        5171 non-null   object\n",
      " 3   label_num   5171 non-null   int64 \n",
      "dtypes: int64(2), object(2)\n",
      "memory usage: 161.7+ KB\n"
     ]
    }
   ],
   "source": [
    "df.info()"
   ]
  },
  {
   "cell_type": "code",
   "execution_count": 5,
   "id": "903868c5-778a-4ba4-b0f1-dcf2be0fbcf8",
   "metadata": {},
   "outputs": [
    {
     "data": {
      "text/plain": [
       "count    5171.000000\n",
       "mean        0.289886\n",
       "std         0.453753\n",
       "min         0.000000\n",
       "25%         0.000000\n",
       "50%         0.000000\n",
       "75%         1.000000\n",
       "max         1.000000\n",
       "Name: label_num, dtype: float64"
      ]
     },
     "execution_count": 5,
     "metadata": {},
     "output_type": "execute_result"
    }
   ],
   "source": [
    "df.label_num.describe().T#%50 Data values 0 important"
   ]
  },
  {
   "cell_type": "markdown",
   "id": "f13047f2-079d-46df-86ea-613904bcb993",
   "metadata": {
    "jp-MarkdownHeadingCollapsed": true,
    "tags": []
   },
   "source": [
    "## Exploratory Data Analysis"
   ]
  },
  {
   "cell_type": "code",
   "execution_count": 6,
   "id": "4b846be9-ad92-47a9-9fba-01241e643d5c",
   "metadata": {},
   "outputs": [
    {
     "data": {
      "text/plain": [
       "(5171, 4)"
      ]
     },
     "execution_count": 6,
     "metadata": {},
     "output_type": "execute_result"
    }
   ],
   "source": [
    "df.shape"
   ]
  },
  {
   "cell_type": "code",
   "execution_count": 7,
   "id": "b04ba5c2-4870-48eb-9c39-d17912f9a914",
   "metadata": {},
   "outputs": [
    {
     "data": {
      "text/html": [
       "<div>\n",
       "<style scoped>\n",
       "    .dataframe tbody tr th:only-of-type {\n",
       "        vertical-align: middle;\n",
       "    }\n",
       "\n",
       "    .dataframe tbody tr th {\n",
       "        vertical-align: top;\n",
       "    }\n",
       "\n",
       "    .dataframe thead th {\n",
       "        text-align: right;\n",
       "    }\n",
       "</style>\n",
       "<table border=\"1\" class=\"dataframe\">\n",
       "  <thead>\n",
       "    <tr style=\"text-align: right;\">\n",
       "      <th></th>\n",
       "      <th>Total</th>\n",
       "      <th>%</th>\n",
       "    </tr>\n",
       "  </thead>\n",
       "  <tbody>\n",
       "    <tr>\n",
       "      <th>Unnamed: 0</th>\n",
       "      <td>0</td>\n",
       "      <td>0.0</td>\n",
       "    </tr>\n",
       "    <tr>\n",
       "      <th>label</th>\n",
       "      <td>0</td>\n",
       "      <td>0.0</td>\n",
       "    </tr>\n",
       "    <tr>\n",
       "      <th>text</th>\n",
       "      <td>0</td>\n",
       "      <td>0.0</td>\n",
       "    </tr>\n",
       "    <tr>\n",
       "      <th>label_num</th>\n",
       "      <td>0</td>\n",
       "      <td>0.0</td>\n",
       "    </tr>\n",
       "  </tbody>\n",
       "</table>\n",
       "</div>"
      ],
      "text/plain": [
       "            Total    %\n",
       "Unnamed: 0      0  0.0\n",
       "label           0  0.0\n",
       "text            0  0.0\n",
       "label_num       0  0.0"
      ]
     },
     "execution_count": 7,
     "metadata": {},
     "output_type": "execute_result"
    }
   ],
   "source": [
    "#Null Check\n",
    "total = df.isnull().sum().sort_values(ascending=False)\n",
    "percent_1 = df.isnull().sum()/df.isnull().count()*100\n",
    "percent_2 = (round(percent_1, 1)).sort_values(ascending=False)\n",
    "missing_data = pd.concat([total, percent_2], axis=1, keys=['Total', '%'])\n",
    "missing_data.head()"
   ]
  },
  {
   "cell_type": "code",
   "execution_count": 8,
   "id": "f06bf490-f6ab-4e5f-a4f3-34016f46ff90",
   "metadata": {},
   "outputs": [
    {
     "data": {
      "image/png": "[encoded data removed]",
      "text/plain": [
       "<Figure size 400x400 with 1 Axes>"
      ]
     },
     "metadata": {},
     "output_type": "display_data"
    }
   ],
   "source": [
    "sns.countplot(data=df, x=\"label_num\",palette=\"Spectral\").set(title=\"Email Spam And Hum Distribution\");"
   ]
  },
  {
   "cell_type": "code",
   "execution_count": 9,
   "id": "b70caa18-3b53-49cd-bc5b-1f014ccc78f5",
   "metadata": {},
   "outputs": [
    {
     "data": {
      "text/plain": [
       "ham     0.710114\n",
       "spam    0.289886\n",
       "Name: label, dtype: float64"
      ]
     },
     "execution_count": 9,
     "metadata": {},
     "output_type": "execute_result"
    }
   ],
   "source": [
    "df.label.value_counts(normalize=True)"
   ]
  },
  {
   "cell_type": "code",
   "execution_count": 10,
   "id": "871058f6-89ad-4dc6-b862-5d97b9dd6a73",
   "metadata": {},
   "outputs": [
    {
     "data": {
      "text/plain": [
       "0    0.710114\n",
       "1    0.289886\n",
       "Name: label_num, dtype: float64"
      ]
     },
     "execution_count": 10,
     "metadata": {},
     "output_type": "execute_result"
    }
   ],
   "source": [
    "df.label_num.value_counts(normalize=True)"
   ]
  },
  {
   "cell_type": "code",
   "execution_count": 11,
   "id": "876037e0-8065-4f06-ac44-2cbb3fdc9f53",
   "metadata": {},
   "outputs": [
    {
     "data": {
      "text/plain": [
       "0        605\n",
       "1       2349\n",
       "2       3624\n",
       "3       4685\n",
       "4       2030\n",
       "        ... \n",
       "5166    1518\n",
       "5167     404\n",
       "5168    2933\n",
       "5169    1409\n",
       "5170    4807\n",
       "Name: Unnamed: 0, Length: 5171, dtype: int64"
      ]
     },
     "execution_count": 11,
     "metadata": {},
     "output_type": "execute_result"
    }
   ],
   "source": [
    "df['Unnamed: 0']#İt is an unstructured"
   ]
  },
  {
   "cell_type": "code",
   "execution_count": 12,
   "id": "70b12932-28e3-4287-b4dc-adf5228e1027",
   "metadata": {},
   "outputs": [],
   "source": [
    "df.drop(['Unnamed: 0'],axis=1,inplace=True)#Delting Unnamed 0"
   ]
  },
  {
   "cell_type": "code",
   "execution_count": 13,
   "id": "fc71f825-a73f-40fb-a4ff-6e599466adcc",
   "metadata": {},
   "outputs": [
    {
     "name": "stdout",
     "output_type": "stream",
     "text": [
      "<class 'pandas.core.frame.DataFrame'>\n",
      "RangeIndex: 5171 entries, 0 to 5170\n",
      "Data columns (total 3 columns):\n",
      " #   Column     Non-Null Count  Dtype \n",
      "---  ------     --------------  ----- \n",
      " 0   label      5171 non-null   object\n",
      " 1   text       5171 non-null   object\n",
      " 2   label_num  5171 non-null   int64 \n",
      "dtypes: int64(1), object(2)\n",
      "memory usage: 121.3+ KB\n"
     ]
    }
   ],
   "source": [
    "df.info()"
   ]
  },
  {
   "cell_type": "code",
   "execution_count": 14,
   "id": "b42ee265-8743-4323-a163-f80db7f7e7ac",
   "metadata": {},
   "outputs": [
    {
     "data": {
      "text/plain": [
       "False    4993\n",
       "True      178\n",
       "Name: text, dtype: int64"
      ]
     },
     "execution_count": 14,
     "metadata": {},
     "output_type": "execute_result"
    }
   ],
   "source": [
    "#Duplicate value?\n",
    "df['text'].duplicated().value_counts()"
   ]
  },
  {
   "cell_type": "code",
   "execution_count": 15,
   "id": "46999f02-0c91-4833-a029-be446d26aef4",
   "metadata": {},
   "outputs": [],
   "source": [
    "df.drop_duplicates(subset=['text'],inplace=True)"
   ]
  },
  {
   "cell_type": "code",
   "execution_count": 16,
   "id": "b0bc8eba-b457-4379-813b-a6c5e5bbacab",
   "metadata": {},
   "outputs": [
    {
     "name": "stdout",
     "output_type": "stream",
     "text": [
      "<class 'pandas.core.frame.DataFrame'>\n",
      "Int64Index: 4993 entries, 0 to 5170\n",
      "Data columns (total 3 columns):\n",
      " #   Column     Non-Null Count  Dtype \n",
      "---  ------     --------------  ----- \n",
      " 0   label      4993 non-null   object\n",
      " 1   text       4993 non-null   object\n",
      " 2   label_num  4993 non-null   int64 \n",
      "dtypes: int64(1), object(2)\n",
      "memory usage: 156.0+ KB\n"
     ]
    }
   ],
   "source": [
    "df.info()"
   ]
  },
  {
   "cell_type": "markdown",
   "id": "2f5ffe70-9495-4079-a759-5105824feafc",
   "metadata": {
    "jp-MarkdownHeadingCollapsed": true,
    "tags": []
   },
   "source": [
    "## Pre Procressing NLP"
   ]
  },
  {
   "cell_type": "code",
   "execution_count": 17,
   "id": "6cd8f8ea-d6ca-4825-bd1e-b0e5f5f15951",
   "metadata": {},
   "outputs": [
    {
     "data": {
      "text/plain": [
       "\"Subject: vocable % rnd - word asceticism\\r\\nvcsc - brand new stock for your attention\\r\\nvocalscape inc - the stock symbol is : vcsc\\r\\nvcsc will be our top stock pick for the month of april - stock expected to\\r\\nbounce to 12 cents level\\r\\nthe stock hit its all time low and will bounce back\\r\\nstock is going to explode in next 5 days - watch it soar\\r\\nwatch the stock go crazy this and next week .\\r\\nbreaking news - vocalscape inc . announces agreement to resell mix network\\r\\nservices\\r\\ncurrent price : $ 0 . 025\\r\\nwe expect projected speculative price in next 5 days : $ 0 . 12\\r\\nwe expect projected speculative price in next 15 days : $ 0 . 15\\r\\nvocalscape networks inc . is building a company that ' s revolutionizing the\\r\\ntelecommunications industry with the most affordable phone systems , hardware ,\\r\\nonline software , and rates in canada and the us . vocalscape , a company with\\r\\nglobal reach , is receiving international attention for the development of voice\\r\\nover ip ( voip ) application solutions , including the award - winning eyefontm , a\\r\\nsoftphone for real - time pc - to - phone . we are an advanced implementer of pbx\\r\\nsystems for companies , call centers , itsps and service providers .\\r\\nvocalscape has created software and interactive solutions revolving around\\r\\nglobal communications and data voice convergence . companies use vocalscape for\\r\\nvoice over internet protocol applications like ip pbxs , softswitches , pc 2 phone\\r\\nand web 2 phone , providing real - time human interaction and information delivery\\r\\nover the internet . through vocalscape ' s solutions , businesses can offer a\\r\\nquality voice service to anywhere in the world at rates that are significantly\\r\\nlower than current long distance charges . we develop software to run voip\\r\\nnetworks , and sell , install and service our own branded voip gateways and\\r\\ngatekeeper control software . we also license our software to customers who want\\r\\nto brand their own voip solutions .\\r\\nvocalscape is committed to making great technology ; challenging the status quo ,\\r\\nand building a 21 st century company that changes the way businesses communicate\\r\\nand interact through the internet .\\r\\ncurrent price : $ 0 . 025\\r\\nwe expect projected speculative price in next 5 days : $ 0 . 12\\r\\nwe expect projected speculative price in next 15 days : $ 0 . 15\\r\\nbreaking news - vocalscape inc . announces agreement to resell mix network\\r\\nservices\\r\\n- - - - - - - - - -\\r\\nkatonah , n . y . , / prnewswire - firstcall via comtex / - - vocalscape , inc . pink : vcsc ) ,\\r\\nan emerging leader in the development of voice over internet protocol ( voip )\\r\\ntelephony solutions , announced today it has entered into a sales agent agreement\\r\\nwith mix networks , inc . a voip enhanced telephony service provider .\\r\\nthis agreement provides vocalscape ' s turnkey calling card customers with access\\r\\nto mix networks services including north american dids ( phone numbers ) and\\r\\ndomestic long distance termination . vocalscape will also be able to supply their\\r\\nclients with enhanced voip products including pre - paid calling through mix\\r\\nnetworks north american network .\\r\\nwe are excited to help companies launch voip business models using our solution\\r\\nwith the whole picture from the software to the network needed to route the\\r\\ncalls . mix networks gives us the ability to offer wholesale monthly flat rate\\r\\nplans and dids to our clients that allow for us to build business models like\\r\\npopular voip companies such as vonage and packet 8 , says ryan gibson , vp\\r\\nvocalscape networks\\r\\nsome legal words before you continue :\\r\\ninformation within this email contains forward looking statements within the\\r\\nmeaning of section 27 a of the securities act of 1933 and section 21 b of the\\r\\nsecurities exchange act of 1934 . any statements that express or involve\\r\\ndiscussions with respect to predictions , goals , expectations , beliefs , plans ,\\r\\nprojections , objectives , assumptions or future events or performance are not\\r\\nstatements of historical fact and may be forward looking statements . forward\\r\\nlooking statements are based on expectations , estimates and projections at the\\r\\ntime the statements are made that involve a number of risks and uncertainties\\r\\nwhich could cause actual results or events to differ materially from those\\r\\npresently anticipated . forward looking statements in this action may be\\r\\nidentified through the use of words such as : projects , foresee , expects ,\\r\\nestimates , believes , understands will , part of : anticipates , or that\\r\\nby statements indicating certain actions may , could , or might occur . all\\r\\ninformation provided within this email pertaining to investing , stocks ,\\r\\nsecurities must be understood as information provided and not investment advice .\\r\\nemerging equity alert advises all readers and subscribers to seek advice from a\\r\\nregistered professional securities representative before deciding to trade in\\r\\nstocks featured within this email . none of the material within this report shall\\r\\nbe construed as any kind of investment advice . please have in mind that the\\r\\ninterpretation of the witer of this newsletter about the news published by the\\r\\ncompany does not represent the company official statement and in fact may differ\\r\\nfrom the real meaning of what the news release meant to say . look the news\\r\\nrelease by yourself and judge by yourself about the details in it .\\r\\nin compliance with section 17 ( b ) , we disclose the holding of vcsc shares prior\\r\\nto the publication of this report . be aware of an inherent conflict of interest\\r\\nresulting from such holdings due to our intent to profit from the liquidation of\\r\\nthese shares . shares may be sold at any time , even after positive statements\\r\\nhave been made regarding the above company . since we own shares , there is an\\r\\ninherent conflict of interest in our statements and opinions . readers of this\\r\\npublication are cautioned not to place undue reliance on forward - looking\\r\\nstatements , which are based on certain assumptions and expectations involving\\r\\nvarious risks and uncertainties , that could cause results to differ materially\\r\\nfrom those set forth in the forward - looking statements .\\r\\nplease be advised that nothing within this email shall constitute a solicitation\\r\\nor an invitation to get position in or sell any security mentioned herein . this\\r\\nnewsletter is neither a registered investment advisor nor affiliated with any\\r\\nbroker or dealer . this newsletter was paid $ 49000 from third party to send this\\r\\nreport . all statements made are our express opinion only and should be treated\\r\\nas such . we may own , take position and sell any securities mentioned at any\\r\\ntime . this report includes forward - looking statements within the meaning of the\\r\\nprivate securities litigation reform act of 1995 . these statements may include\\r\\nterms as projected speculative price expect , believe , may , will ,\\r\\nsoar move , undervalued and intend or similar terms .\\r\\n\""
      ]
     },
     "execution_count": 17,
     "metadata": {},
     "output_type": "execute_result"
    }
   ],
   "source": [
    "df.text[10]"
   ]
  },
  {
   "cell_type": "markdown",
   "id": "3c6e0040-e9c8-4f46-be44-3061e6af9737",
   "metadata": {},
   "source": [
    "<p>Text Datat Result<p>\n",
    "-  punctuation marks.\n",
    "-  numeric value.\n",
    "- short words like 're'."
   ]
  },
  {
   "cell_type": "markdown",
   "id": "c02ba8d6-4d2a-4d35-bbfc-816b8803ec04",
   "metadata": {
    "tags": []
   },
   "source": [
    "<p> Removing words with numeric value in comments\n",
    "alphanumeric = lambda x: re.sub('\\w*\\d\\w*', ' ', x)\n",
    "# Remove punctuation and convert all words to lowercase\n",
    "punc_lower = lambda x: re.sub('[%s]' % re.escape(string.punctuation), ' ', x.lower()) \n",
    "\n",
    "#Remove Special Character\n",
    "def remove_special_characters(self, dataframe):\n",
    "    self.log.info(\"Removing special characters from dataframe\")\n",
    "    no_special_characters = dataframe.replace(r'[^A-Za-z0-9 ]+', '', regex=True)\n",
    "    return no_special_characters\n",
    "\n",
    "#Remove Whitespace\n",
    "def remove_whitespace(self, dataframe):\n",
    "    self.log.info(\"Removing whitespace from dataframe\")\n",
    "    # replace more than 1 space with 1 space\n",
    "    merged_spaces = dataframe.str.replace(r\"\\s\\s+\",' ')\n",
    "    # delete beginning and trailing spaces\n",
    "    trimmed_spaces = merged_spaces.apply(lambda x: x.str.strip())\n",
    "    return trimmed_spaces\n",
    "\n",
    "#Remove Website link\n",
    "def remove_website_links(self, dataframe):\n",
    "    self.log.info(\"Removing website links from dataframe\")\n",
    "    no_website_links = dataframe.str.replace(r\"http\\S+\", \"\")\n",
    "    return no_website_links\n",
    "#Remove Email adress\n",
    "def remove_emails(self, dataframe):\n",
    "    no_emails = dataframe.str.replace(r\"\\S*@\\S*\\s?\")\n",
    "    return no_emails\n",
    "\n",
    "#Lookup function edits word abbreviations\n",
    "def lookup_dict(text, dictionary):\n",
    "    for word in text.split():\n",
    "        if word.lower() in dictionary:\n",
    "            if word.lower() in text.split():\n",
    "                text = text.replace(word, dictionary[word.lower()])\n",
    "    return text\n",
    "\n",
    "apostrophe_dict = {\n",
    "\"ain't\": \"am not / are not\",\n",
    "\"aren't\": \"are not / am not\",\n",
    "\"can't\": \"cannot\",\n",
    "\"can't've\": \"cannot have\",\n",
    "\"'cause\": \"because\",\n",
    "\"could've\": \"could have\",\n",
    "\"couldn't\": \"could not\",\n",
    "\"couldn't've\": \"could not have\",\n",
    "\"didn't\": \"did not\",\n",
    "\"doesn't\": \"does not\",\n",
    "\"don't\": \"do not\",\n",
    "\"hadn't\": \"had not\",\n",
    "\"hadn't've\": \"had not have\",\n",
    "\"hasn't\": \"has not\",\n",
    "\"haven't\": \"have not\",\n",
    "\"he'd\": \"he had / he would\",\n",
    "\"he'd've\": \"he would have\",\n",
    "\"he'll\": \"he shall / he will\",\n",
    "\"he'll've\": \"he shall have / he will have\",\n",
    "\"he's\": \"he has / he is\",\n",
    "\"how'd\": \"how did\",\n",
    "\"how'd'y\": \"how do you\",\n",
    "\"how'll\": \"how will\",\n",
    "\"how's\": \"how has / how is\",\n",
    "\"i'd\": \"I had / I would\",\n",
    "\"i'd've\": \"I would have\",\n",
    "\"i'll\": \"I shall / I will\",\n",
    "\"i'll've\": \"I shall have / I will have\",\n",
    "\"i'm\": \"I am\",\n",
    "\"im\": \"I am\",\n",
    "\"i've\": \"I have\",\n",
    "\"isn't\": \"is not\",\n",
    "\"it'd\": \"it had / it would\",\n",
    "\"it'd've\": \"it would have\",\n",
    "\"it'll\": \"it shall / it will\",\n",
    "\"it'll've\": \"it shall have / it will have\",\n",
    "\"it's\": \"it has / it is\",\n",
    "\"let's\": \"let us\",\n",
    "\"ma'am\": \"madam\",\n",
    "\"mayn't\": \"may not\",\n",
    "\"might've\": \"might have\",\n",
    "\"mightn't\": \"might not\",\n",
    "\"mightn't've\": \"might not have\",\n",
    "\"must've\": \"must have\",\n",
    "\"mustn't\": \"must not\",\n",
    "\"mustn't've\": \"must not have\",\n",
    "\"needn't\": \"need not\",\n",
    "\"needn't've\": \"need not have\",\n",
    "\"o'clock\": \"of the clock\",\n",
    "\"oughtn't\": \"ought not\",\n",
    "\"oughtn't've\": \"ought not have\",\n",
    "\"shan't\": \"shall not\",\n",
    "\"sha'n't\": \"shall not\",\n",
    "\"shan't've\": \"shall not have\",\n",
    "\"she'd\": \"she had / she would\",\n",
    "\"she'd've\": \"she would have\",\n",
    "\"she'll\": \"she shall / she will\",\n",
    "\"she'll've\": \"she shall have / she will have\",\n",
    "\"she's\": \"she has / she is\",\n",
    "\"should've\": \"should have\",\n",
    "\"shouldn't\": \"should not\",\n",
    "\"shouldn't've\": \"should not have\",\n",
    "\"so've\": \"so have\",\n",
    "\"so's\": \"so as / so is\",\n",
    "\"that'd\": \"that would / that had\",\n",
    "\"that'd've\": \"that would have\",\n",
    "\"that's\": \"that has / that is\",\n",
    "\"there'd\": \"there had / there would\",\n",
    "\"there'd've\": \"there would have\",\n",
    "\"there's\": \"there has / there is\",\n",
    "\"they'd\": \"they had / they would\",\n",
    "\"they'd've\": \"they would have\",\n",
    "\"they'll\": \"they shall / they will\",\n",
    "\"they'll've\": \"they shall have / they will have\",\n",
    "\"they're\": \"they are\",\n",
    "\"they've\": \"they have\",\n",
    "\"to've\": \"to have\",\n",
    "\"wasn't\": \"was not\",\n",
    "\"we'd\": \"we had / we would\",\n",
    "\"we'd've\": \"we would have\",\n",
    "\"we'll\": \"we will\",\n",
    "\"we'll've\": \"we will have\",\n",
    "\"we're\": \"we are\",\n",
    "\"we've\": \"we have\",\n",
    "\"weren't\": \"were not\",\n",
    "\"what'll\": \"what shall / what will\",\n",
    "\"what'll've\": \"what shall have / what will have\",\n",
    "\"what're\": \"what are\",\n",
    "\"what's\": \"what has / what is\",\n",
    "\"what've\": \"what have\",\n",
    "\"when's\": \"when has / when is\",\n",
    "\"when've\": \"when have\",\n",
    "\"where'd\": \"where did\",\n",
    "\"where's\": \"where has / where is\",\n",
    "\"where've\": \"where have\",\n",
    "\"who'll\": \"who shall / who will\",\n",
    "\"who'll've\": \"who shall have / who will have\",\n",
    "\"who's\": \"who has / who is\",\n",
    "\"who've\": \"who have\",\n",
    "\"why's\": \"why has / why is\",\n",
    "\"why've\": \"why have\",\n",
    "\"will've\": \"will have\",\n",
    "\"won't\": \"will not\",\n",
    "\"won't've\": \"will not have\",\n",
    "\"would've\": \"would have\",\n",
    "\"wouldn't\": \"would not\",\n",
    "\"wouldn't've\": \"would not have\",\n",
    "\"y'all\": \"you all\",\n",
    "\"y'all'd\": \"you all would\",\n",
    "\"y'all'd've\": \"you all would have\",\n",
    "\"y'all're\": \"you all are\",\n",
    "\"y'all've\": \"you all have\",\n",
    "\"you'd\": \"you had / you would\",\n",
    "\"you'd've\": \"you would have\",\n",
    "\"you'll\": \"you shall / you will\",\n",
    "\"you'll've\": \"you shall have / you will have\",\n",
    "\"you're\": \"you are\",\n",
    "\"you've\": \"you have\"\n",
    "}"
   ]
  },
  {
   "cell_type": "code",
   "execution_count": 18,
   "id": "23915735-d062-469e-8072-e400a876d9a2",
   "metadata": {},
   "outputs": [],
   "source": [
    "\n",
    "lemmatizer = WordNetLemmatizer()\n",
    "stemmer = PorterStemmer() \n",
    "\n",
    "def preprocess(sentence):\n",
    "    sentence=str(sentence)\n",
    "    sentence = sentence.lower()\n",
    "    sentence=sentence.replace('{html}',\"\") \n",
    "    cleanr = re.compile('<.*?>')\n",
    "    cleantext = re.sub(cleanr, '', sentence)\n",
    "    rem_url=re.sub(r'http\\S+', '',cleantext)\n",
    "    rem_num = re.sub('[0-9]+', '', rem_url)\n",
    "    tokenizer = RegexpTokenizer(r'\\w+')\n",
    "    \n",
    "    tokens = tokenizer.tokenize(rem_num)  \n",
    "    filtered_words = [w for w in tokens if len(w) > 2 if not w in stopwords.words('english')]\n",
    "    stem_words=[stemmer.stem(w) for w in filtered_words]\n",
    "    lemma_words=[lemmatizer.lemmatize(w) for w in stem_words]\n",
    "    return \" \".join(filtered_words)\n",
    "\n",
    "\n",
    "df['cleanText']=df['text'].map(lambda s:preprocess(s)) "
   ]
  },
  {
   "cell_type": "code",
   "execution_count": 19,
   "id": "8e64218b-e77a-4ef6-bd32-68f90ac28428",
   "metadata": {},
   "outputs": [],
   "source": [
    "# Removing words with numeric value in comments\n",
    "alphanumeric = lambda x: re.sub('\\w*\\d\\w*', ' ', x)\n",
    "# Remove punctuation and convert all words to lowercase\n",
    "punc_lower = lambda x: re.sub('[%s]' % re.escape(string.punctuation), ' ', x.lower()) \n",
    "#remove '\\r\\n'\n",
    "df['text']=df['text'].replace(r'\\r\\n', ' ', regex=True) "
   ]
  },
  {
   "cell_type": "code",
   "execution_count": 20,
   "id": "10431b85-3cd6-44e6-b69a-edcb55f4abe3",
   "metadata": {},
   "outputs": [],
   "source": [
    "df['text'] = df['text'].map(alphanumeric).map(punc_lower)"
   ]
  },
  {
   "cell_type": "code",
   "execution_count": 21,
   "id": "23b0d98e-f84d-4b07-b700-955fe9fa0570",
   "metadata": {},
   "outputs": [
    {
     "name": "stdout",
     "output_type": "stream",
     "text": [
      "Wall time: 3h 22min 22s\n"
     ]
    }
   ],
   "source": [
    "%%time\n",
    "def correct(text):\n",
    "    text = [str(TextBlob(word).correct()) for word in text.split(' ')]\n",
    "    text = \" \".join(text)\n",
    "    return text\n",
    "\n",
    "df['text'] = df['text'].apply(correct)"
   ]
  },
  {
   "cell_type": "code",
   "execution_count": 22,
   "id": "bb55e9b9-e61a-4537-9ae3-58b8bb94ee50",
   "metadata": {},
   "outputs": [],
   "source": [
    "#Word short than 1\n",
    "df['text']= df['text'].apply(lambda x: ' '.join([w for w in x.split() if len(w)>1]))"
   ]
  },
  {
   "cell_type": "code",
   "execution_count": 23,
   "id": "59b1910e-aba3-4626-af3a-9def28cc5082",
   "metadata": {},
   "outputs": [
    {
     "data": {
      "text/plain": [
       "'subject movable and word asceticism vast brand new stock for your attention vocalscape in the stock symbol is vast vast will be our top stock pick for the month of april stock expected to bounce to cents level the stock hit its all time low and will bounce back stock is going to explode in next days watch it soar watch the stock go crazy this and next week breaking news vocalscape in announces agreement to retell mix network services current price we expect projected speculative price in next days we expect projected speculative price in next days vocalscape network in is building company that revolutionizing the telecommunication industry with the most unfordable phone systems hardware online software and rates in canada and the us vocalscape company with global reach is receiving international attention for the development of voice over in void application solutions including the award winning eyefontm softphone for real time pp to phone we are an advanced implements of pox systems for companies call centers its and service provides vocalscape has created software and interactive solutions revolving around global communications and data voice conference companies use vocalscape for voice over internet protocol applications like in pus softswitches pp phone and web phone providing real time human interaction and information delivery over the internet through vocalscape solutions business can offer quality voice service to anywhere in the world at rates that are significantly lower than current long distance charges we develop software to run void network and sell install and service our own branded void gateway and gatekeeper control software we also license our software to customers who want to brand their own void solutions vocalscape is committed to making great technology challenging the status que and building st century company that changes the way business communicate and interact through the internet current price we expect projected speculative price in next days we expect projected speculative price in next days breaking news vocalscape in announces agreement to retell mix network services katonah prnewswire firstcall via cortex vocalscape in pink vast an emerging leader in the development of voice over internet protocol void telephone solutions announced today it has entered into sales agent agreement with mix network in void enhanced telephone service provider this agreement provides vocalscape turkey calling card customers with access to mix network services including north american did phone numbers and domestic long distance termination vocalscape will also be able to supply their clients with enhanced void products including pre paid calling through mix network north american network we are excited to help companies launch void business models using our solution with the whole picture from the software to the network needed to route the calls mix network gives us the ability to offer wholesale monthly flat rate plans and did to our clients that allow for us to build business models like popular void companies such as voyage and packet says ran gibson up vocalscape network some legal words before you continue information within this email contains forward looking statements within the meaning of section of the securities act of and section of the securities exchange act of any statements that express or involve discussions with respect to predictions goals expectations beliefs plans projections objectives assumptions or future events or performance are not statements of historical fact and may be forward looking statements forward looking statements are based on expectations estimates and projections at the time the statements are made that involve number of risks and uncertainties which could cause actual results or events to differ materially from those presently anticipated forward looking statements in this action may be identified through the use of words such as projects foresee expects estimates believes understands will part of anticipated or that by statements indicating certain actions may could or might occur all information provided within this email pertaining to investing stocks securities must be understood as information provided and not investment advice emerging equity alert advises all readers and subscribers to seek advice from registered professional securities representative before deciding to trade in stocks features within this email none of the material within this report shall be construed as any kind of investment advice please have in mind that the interpretation of the water of this newsletter about the news published by the company does not represent the company official statement and in fact may differ from the real meaning of what the news release meant to say look the news release by yourself and judge by yourself about the details in it in compliance with section we disclose the holding of vast shares prior to the publication of this report be aware of an inherent conflict of interest resulting from such holdings due to our intent to profit from the liquidation of these shares shares may be sold at any time even after positive statements have been made regarding the above company since we own shares there is an inherent conflict of interest in our statements and opinions readers of this publication are cautioned not to place undue reliance on forward looking statements which are based on certain assumptions and expectations involving various risks and uncertainties that could cause results to differ materially from those set forth in the forward looking statements please be advised that nothing within this email shall constitute solicitation or an invitation to get position in or sell any security mentioned herein this newsletter is neither registered investment adviser nor affiliated with any broker or dealer this newsletter was paid from third party to send this report all statements made are our express opinion only and should be treated as such we may own take position and sell any securities mentioned at any time this report includes forward looking statements within the meaning of the private securities litigation reform act of these statements may include terms as projected speculative price expect believe may will soar move undervalued and intend or similar terms'"
      ]
     },
     "execution_count": 23,
     "metadata": {},
     "output_type": "execute_result"
    }
   ],
   "source": [
    "df.text[10]"
   ]
  },
  {
   "cell_type": "code",
   "execution_count": 48,
   "id": "670c291a-c444-41d0-ad3a-8a835bd9fe50",
   "metadata": {},
   "outputs": [
    {
     "data": {
      "text/html": [
       "<div>\n",
       "<style scoped>\n",
       "    .dataframe tbody tr th:only-of-type {\n",
       "        vertical-align: middle;\n",
       "    }\n",
       "\n",
       "    .dataframe tbody tr th {\n",
       "        vertical-align: top;\n",
       "    }\n",
       "\n",
       "    .dataframe thead th {\n",
       "        text-align: right;\n",
       "    }\n",
       "</style>\n",
       "<table border=\"1\" class=\"dataframe\">\n",
       "  <thead>\n",
       "    <tr style=\"text-align: right;\">\n",
       "      <th></th>\n",
       "      <th>words</th>\n",
       "      <th>tf</th>\n",
       "    </tr>\n",
       "  </thead>\n",
       "  <tbody>\n",
       "    <tr>\n",
       "      <th>0</th>\n",
       "      <td>daily</td>\n",
       "      <td>545.0</td>\n",
       "    </tr>\n",
       "    <tr>\n",
       "      <th>1</th>\n",
       "      <td>this</td>\n",
       "      <td>7098.0</td>\n",
       "    </tr>\n",
       "    <tr>\n",
       "      <th>2</th>\n",
       "      <td>is</td>\n",
       "      <td>7512.0</td>\n",
       "    </tr>\n",
       "    <tr>\n",
       "      <th>3</th>\n",
       "      <td>to</td>\n",
       "      <td>21028.0</td>\n",
       "    </tr>\n",
       "    <tr>\n",
       "      <th>4</th>\n",
       "      <td>you</td>\n",
       "      <td>15290.0</td>\n",
       "    </tr>\n",
       "  </tbody>\n",
       "</table>\n",
       "</div>"
      ],
      "text/plain": [
       "   words       tf\n",
       "0  daily    545.0\n",
       "1   this   7098.0\n",
       "2     is   7512.0\n",
       "3     to  21028.0\n",
       "4    you  15290.0"
      ]
     },
     "execution_count": 48,
     "metadata": {},
     "output_type": "execute_result"
    }
   ],
   "source": [
    "tf = df['text'] .apply(lambda x: pd.value_counts(x.split(\" \"))).sum(axis=0).reset_index()\n",
    "\n",
    "tf.columns = [\"words\", \"tf\"]\n",
    "tf.head()"
   ]
  },
  {
   "cell_type": "code",
   "execution_count": 53,
   "id": "19fd8e68-9d5c-4131-8107-19c78cb2131b",
   "metadata": {},
   "outputs": [
    {
     "data": {
      "image/png": "[encoded data removed]",
      "text/plain": [
       "<Figure size 400x400 with 1 Axes>"
      ]
     },
     "metadata": {},
     "output_type": "display_data"
    }
   ],
   "source": [
    "# Wordcloud\n",
    "\n",
    "text = \" \".join(i for i in df['text'])\n",
    "wordcloud = WordCloud().generate(text)\n",
    "plt.imshow(wordcloud, interpolation=\"bilinear\")\n",
    "plt.axis(\"off\")\n",
    "plt.show()"
   ]
  },
  {
   "cell_type": "markdown",
   "id": "40179e81-c7e3-4a3d-9ede-8d72994e83b6",
   "metadata": {
    "tags": []
   },
   "source": [
    "## Split and Tokenization"
   ]
  },
  {
   "cell_type": "code",
   "execution_count": 24,
   "id": "532ca582-ec94-426e-93d0-3218ffcc288b",
   "metadata": {},
   "outputs": [],
   "source": [
    "X=df.text\n",
    "y=df.label_num\n",
    "\n",
    "X_train, X_test, y_train, y_test = train_test_split(X, y,\n",
    "                                                    test_size = 0.3, random_state=42)"
   ]
  },
  {
   "cell_type": "code",
   "execution_count": 25,
   "id": "cda02acb-65c0-4aeb-a43d-d8533d5a236d",
   "metadata": {},
   "outputs": [
    {
     "data": {
      "text/html": [
       "<div>\n",
       "<style scoped>\n",
       "    .dataframe tbody tr th:only-of-type {\n",
       "        vertical-align: middle;\n",
       "    }\n",
       "\n",
       "    .dataframe tbody tr th {\n",
       "        vertical-align: top;\n",
       "    }\n",
       "\n",
       "    .dataframe thead th {\n",
       "        text-align: right;\n",
       "    }\n",
       "</style>\n",
       "<table border=\"1\" class=\"dataframe\">\n",
       "  <thead>\n",
       "    <tr style=\"text-align: right;\">\n",
       "      <th></th>\n",
       "      <th>aabvmmq</th>\n",
       "      <th>aachecar</th>\n",
       "      <th>aaigrcrb</th>\n",
       "      <th>aaihmqv</th>\n",
       "      <th>aaldano</th>\n",
       "      <th>aambique</th>\n",
       "      <th>aamlrg</th>\n",
       "      <th>aaron</th>\n",
       "      <th>aashqcsny</th>\n",
       "      <th>aaxrzm</th>\n",
       "      <th>...</th>\n",
       "      <th>zxklh</th>\n",
       "      <th>zxzmcnbf</th>\n",
       "      <th>zyjvit</th>\n",
       "      <th>zykfe</th>\n",
       "      <th>zynsdirnh</th>\n",
       "      <th>zyqtaqlt</th>\n",
       "      <th>zyrtec</th>\n",
       "      <th>zyyqywp</th>\n",
       "      <th>zzezrjok</th>\n",
       "      <th>zzocb</th>\n",
       "    </tr>\n",
       "  </thead>\n",
       "  <tbody>\n",
       "    <tr>\n",
       "      <th>0</th>\n",
       "      <td>0</td>\n",
       "      <td>0</td>\n",
       "      <td>0</td>\n",
       "      <td>0</td>\n",
       "      <td>0</td>\n",
       "      <td>0</td>\n",
       "      <td>0</td>\n",
       "      <td>0</td>\n",
       "      <td>0</td>\n",
       "      <td>0</td>\n",
       "      <td>...</td>\n",
       "      <td>0</td>\n",
       "      <td>0</td>\n",
       "      <td>0</td>\n",
       "      <td>0</td>\n",
       "      <td>0</td>\n",
       "      <td>0</td>\n",
       "      <td>0</td>\n",
       "      <td>0</td>\n",
       "      <td>0</td>\n",
       "      <td>0</td>\n",
       "    </tr>\n",
       "    <tr>\n",
       "      <th>1</th>\n",
       "      <td>0</td>\n",
       "      <td>0</td>\n",
       "      <td>0</td>\n",
       "      <td>0</td>\n",
       "      <td>0</td>\n",
       "      <td>0</td>\n",
       "      <td>0</td>\n",
       "      <td>0</td>\n",
       "      <td>0</td>\n",
       "      <td>0</td>\n",
       "      <td>...</td>\n",
       "      <td>0</td>\n",
       "      <td>0</td>\n",
       "      <td>0</td>\n",
       "      <td>0</td>\n",
       "      <td>0</td>\n",
       "      <td>0</td>\n",
       "      <td>0</td>\n",
       "      <td>0</td>\n",
       "      <td>0</td>\n",
       "      <td>0</td>\n",
       "    </tr>\n",
       "    <tr>\n",
       "      <th>2</th>\n",
       "      <td>0</td>\n",
       "      <td>0</td>\n",
       "      <td>0</td>\n",
       "      <td>0</td>\n",
       "      <td>0</td>\n",
       "      <td>0</td>\n",
       "      <td>0</td>\n",
       "      <td>0</td>\n",
       "      <td>0</td>\n",
       "      <td>0</td>\n",
       "      <td>...</td>\n",
       "      <td>0</td>\n",
       "      <td>0</td>\n",
       "      <td>0</td>\n",
       "      <td>0</td>\n",
       "      <td>0</td>\n",
       "      <td>0</td>\n",
       "      <td>0</td>\n",
       "      <td>0</td>\n",
       "      <td>0</td>\n",
       "      <td>0</td>\n",
       "    </tr>\n",
       "    <tr>\n",
       "      <th>3</th>\n",
       "      <td>0</td>\n",
       "      <td>0</td>\n",
       "      <td>0</td>\n",
       "      <td>0</td>\n",
       "      <td>0</td>\n",
       "      <td>0</td>\n",
       "      <td>0</td>\n",
       "      <td>0</td>\n",
       "      <td>0</td>\n",
       "      <td>0</td>\n",
       "      <td>...</td>\n",
       "      <td>0</td>\n",
       "      <td>0</td>\n",
       "      <td>0</td>\n",
       "      <td>0</td>\n",
       "      <td>0</td>\n",
       "      <td>0</td>\n",
       "      <td>0</td>\n",
       "      <td>0</td>\n",
       "      <td>0</td>\n",
       "      <td>0</td>\n",
       "    </tr>\n",
       "    <tr>\n",
       "      <th>4</th>\n",
       "      <td>0</td>\n",
       "      <td>0</td>\n",
       "      <td>0</td>\n",
       "      <td>0</td>\n",
       "      <td>0</td>\n",
       "      <td>0</td>\n",
       "      <td>0</td>\n",
       "      <td>0</td>\n",
       "      <td>0</td>\n",
       "      <td>0</td>\n",
       "      <td>...</td>\n",
       "      <td>0</td>\n",
       "      <td>0</td>\n",
       "      <td>0</td>\n",
       "      <td>0</td>\n",
       "      <td>0</td>\n",
       "      <td>0</td>\n",
       "      <td>0</td>\n",
       "      <td>0</td>\n",
       "      <td>0</td>\n",
       "      <td>0</td>\n",
       "    </tr>\n",
       "  </tbody>\n",
       "</table>\n",
       "<p>5 rows × 24468 columns</p>\n",
       "</div>"
      ],
      "text/plain": [
       "   aabvmmq  aachecar  aaigrcrb  aaihmqv  aaldano  aambique  aamlrg  aaron  \\\n",
       "0        0         0         0        0        0         0       0      0   \n",
       "1        0         0         0        0        0         0       0      0   \n",
       "2        0         0         0        0        0         0       0      0   \n",
       "3        0         0         0        0        0         0       0      0   \n",
       "4        0         0         0        0        0         0       0      0   \n",
       "\n",
       "   aashqcsny  aaxrzm  ...  zxklh  zxzmcnbf  zyjvit  zykfe  zynsdirnh  \\\n",
       "0          0       0  ...      0         0       0      0          0   \n",
       "1          0       0  ...      0         0       0      0          0   \n",
       "2          0       0  ...      0         0       0      0          0   \n",
       "3          0       0  ...      0         0       0      0          0   \n",
       "4          0       0  ...      0         0       0      0          0   \n",
       "\n",
       "   zyqtaqlt  zyrtec  zyyqywp  zzezrjok  zzocb  \n",
       "0         0       0        0         0      0  \n",
       "1         0       0        0         0      0  \n",
       "2         0       0        0         0      0  \n",
       "3         0       0        0         0      0  \n",
       "4         0       0        0         0      0  \n",
       "\n",
       "[5 rows x 24468 columns]"
      ]
     },
     "execution_count": 25,
     "metadata": {},
     "output_type": "execute_result"
    }
   ],
   "source": [
    "## Countvectorized\n",
    "\n",
    "cv = CountVectorizer()\n",
    "X_train_cv = cv.fit_transform(X_train)\n",
    "X_test_cv = cv.transform(X_test)\n",
    "\n",
    "\n",
    "pd.DataFrame(X_train_cv.toarray(), columns=cv.get_feature_names_out()).head()"
   ]
  },
  {
   "cell_type": "code",
   "execution_count": 26,
   "id": "0e06b07b-8e0d-4abd-afab-9715dd4734a9",
   "metadata": {},
   "outputs": [
    {
     "data": {
      "text/html": [
       "<div>\n",
       "<style scoped>\n",
       "    .dataframe tbody tr th:only-of-type {\n",
       "        vertical-align: middle;\n",
       "    }\n",
       "\n",
       "    .dataframe tbody tr th {\n",
       "        vertical-align: top;\n",
       "    }\n",
       "\n",
       "    .dataframe thead th {\n",
       "        text-align: right;\n",
       "    }\n",
       "</style>\n",
       "<table border=\"1\" class=\"dataframe\">\n",
       "  <thead>\n",
       "    <tr style=\"text-align: right;\">\n",
       "      <th></th>\n",
       "      <th>aabvmmq</th>\n",
       "      <th>aachecar</th>\n",
       "      <th>aaigrcrb</th>\n",
       "      <th>aaihmqv</th>\n",
       "      <th>aaldano</th>\n",
       "      <th>aambique</th>\n",
       "      <th>aamlrg</th>\n",
       "      <th>aaron</th>\n",
       "      <th>aashqcsny</th>\n",
       "      <th>aaxrzm</th>\n",
       "      <th>...</th>\n",
       "      <th>zxklh</th>\n",
       "      <th>zxzmcnbf</th>\n",
       "      <th>zyjvit</th>\n",
       "      <th>zykfe</th>\n",
       "      <th>zynsdirnh</th>\n",
       "      <th>zyqtaqlt</th>\n",
       "      <th>zyrtec</th>\n",
       "      <th>zyyqywp</th>\n",
       "      <th>zzezrjok</th>\n",
       "      <th>zzocb</th>\n",
       "    </tr>\n",
       "  </thead>\n",
       "  <tbody>\n",
       "    <tr>\n",
       "      <th>0</th>\n",
       "      <td>0.0</td>\n",
       "      <td>0.0</td>\n",
       "      <td>0.0</td>\n",
       "      <td>0.0</td>\n",
       "      <td>0.0</td>\n",
       "      <td>0.0</td>\n",
       "      <td>0.0</td>\n",
       "      <td>0.0</td>\n",
       "      <td>0.0</td>\n",
       "      <td>0.0</td>\n",
       "      <td>...</td>\n",
       "      <td>0.0</td>\n",
       "      <td>0.0</td>\n",
       "      <td>0.0</td>\n",
       "      <td>0.0</td>\n",
       "      <td>0.0</td>\n",
       "      <td>0.0</td>\n",
       "      <td>0.0</td>\n",
       "      <td>0.0</td>\n",
       "      <td>0.0</td>\n",
       "      <td>0.0</td>\n",
       "    </tr>\n",
       "    <tr>\n",
       "      <th>1</th>\n",
       "      <td>0.0</td>\n",
       "      <td>0.0</td>\n",
       "      <td>0.0</td>\n",
       "      <td>0.0</td>\n",
       "      <td>0.0</td>\n",
       "      <td>0.0</td>\n",
       "      <td>0.0</td>\n",
       "      <td>0.0</td>\n",
       "      <td>0.0</td>\n",
       "      <td>0.0</td>\n",
       "      <td>...</td>\n",
       "      <td>0.0</td>\n",
       "      <td>0.0</td>\n",
       "      <td>0.0</td>\n",
       "      <td>0.0</td>\n",
       "      <td>0.0</td>\n",
       "      <td>0.0</td>\n",
       "      <td>0.0</td>\n",
       "      <td>0.0</td>\n",
       "      <td>0.0</td>\n",
       "      <td>0.0</td>\n",
       "    </tr>\n",
       "    <tr>\n",
       "      <th>2</th>\n",
       "      <td>0.0</td>\n",
       "      <td>0.0</td>\n",
       "      <td>0.0</td>\n",
       "      <td>0.0</td>\n",
       "      <td>0.0</td>\n",
       "      <td>0.0</td>\n",
       "      <td>0.0</td>\n",
       "      <td>0.0</td>\n",
       "      <td>0.0</td>\n",
       "      <td>0.0</td>\n",
       "      <td>...</td>\n",
       "      <td>0.0</td>\n",
       "      <td>0.0</td>\n",
       "      <td>0.0</td>\n",
       "      <td>0.0</td>\n",
       "      <td>0.0</td>\n",
       "      <td>0.0</td>\n",
       "      <td>0.0</td>\n",
       "      <td>0.0</td>\n",
       "      <td>0.0</td>\n",
       "      <td>0.0</td>\n",
       "    </tr>\n",
       "    <tr>\n",
       "      <th>3</th>\n",
       "      <td>0.0</td>\n",
       "      <td>0.0</td>\n",
       "      <td>0.0</td>\n",
       "      <td>0.0</td>\n",
       "      <td>0.0</td>\n",
       "      <td>0.0</td>\n",
       "      <td>0.0</td>\n",
       "      <td>0.0</td>\n",
       "      <td>0.0</td>\n",
       "      <td>0.0</td>\n",
       "      <td>...</td>\n",
       "      <td>0.0</td>\n",
       "      <td>0.0</td>\n",
       "      <td>0.0</td>\n",
       "      <td>0.0</td>\n",
       "      <td>0.0</td>\n",
       "      <td>0.0</td>\n",
       "      <td>0.0</td>\n",
       "      <td>0.0</td>\n",
       "      <td>0.0</td>\n",
       "      <td>0.0</td>\n",
       "    </tr>\n",
       "    <tr>\n",
       "      <th>4</th>\n",
       "      <td>0.0</td>\n",
       "      <td>0.0</td>\n",
       "      <td>0.0</td>\n",
       "      <td>0.0</td>\n",
       "      <td>0.0</td>\n",
       "      <td>0.0</td>\n",
       "      <td>0.0</td>\n",
       "      <td>0.0</td>\n",
       "      <td>0.0</td>\n",
       "      <td>0.0</td>\n",
       "      <td>...</td>\n",
       "      <td>0.0</td>\n",
       "      <td>0.0</td>\n",
       "      <td>0.0</td>\n",
       "      <td>0.0</td>\n",
       "      <td>0.0</td>\n",
       "      <td>0.0</td>\n",
       "      <td>0.0</td>\n",
       "      <td>0.0</td>\n",
       "      <td>0.0</td>\n",
       "      <td>0.0</td>\n",
       "    </tr>\n",
       "  </tbody>\n",
       "</table>\n",
       "<p>5 rows × 24166 columns</p>\n",
       "</div>"
      ],
      "text/plain": [
       "   aabvmmq  aachecar  aaigrcrb  aaihmqv  aaldano  aambique  aamlrg  aaron  \\\n",
       "0      0.0       0.0       0.0      0.0      0.0       0.0     0.0    0.0   \n",
       "1      0.0       0.0       0.0      0.0      0.0       0.0     0.0    0.0   \n",
       "2      0.0       0.0       0.0      0.0      0.0       0.0     0.0    0.0   \n",
       "3      0.0       0.0       0.0      0.0      0.0       0.0     0.0    0.0   \n",
       "4      0.0       0.0       0.0      0.0      0.0       0.0     0.0    0.0   \n",
       "\n",
       "   aashqcsny  aaxrzm  ...  zxklh  zxzmcnbf  zyjvit  zykfe  zynsdirnh  \\\n",
       "0        0.0     0.0  ...    0.0       0.0     0.0    0.0        0.0   \n",
       "1        0.0     0.0  ...    0.0       0.0     0.0    0.0        0.0   \n",
       "2        0.0     0.0  ...    0.0       0.0     0.0    0.0        0.0   \n",
       "3        0.0     0.0  ...    0.0       0.0     0.0    0.0        0.0   \n",
       "4        0.0     0.0  ...    0.0       0.0     0.0    0.0        0.0   \n",
       "\n",
       "   zyqtaqlt  zyrtec  zyyqywp  zzezrjok  zzocb  \n",
       "0       0.0     0.0      0.0       0.0    0.0  \n",
       "1       0.0     0.0      0.0       0.0    0.0  \n",
       "2       0.0     0.0      0.0       0.0    0.0  \n",
       "3       0.0     0.0      0.0       0.0    0.0  \n",
       "4       0.0     0.0      0.0       0.0    0.0  \n",
       "\n",
       "[5 rows x 24166 columns]"
      ]
     },
     "execution_count": 26,
     "metadata": {},
     "output_type": "execute_result"
    }
   ],
   "source": [
    "## TFIDF-Vectorizer\n",
    "tfidf = TfidfVectorizer(stop_words='english')\n",
    "\n",
    "X_train_tfidf = tfidf.fit_transform(X_train)\n",
    "X_test_tfidf  = tfidf.transform(X_test)\n",
    "\n",
    "\n",
    "pd.DataFrame(X_train_tfidf.toarray(), columns=tfidf.get_feature_names_out()).head()"
   ]
  },
  {
   "cell_type": "markdown",
   "id": "646bd0ec-e609-4204-a10a-9320769acdd3",
   "metadata": {
    "tags": []
   },
   "source": [
    "## Model Evolution"
   ]
  },
  {
   "cell_type": "code",
   "execution_count": 27,
   "id": "5b12887a-79c9-4ffc-b295-62e05be99405",
   "metadata": {},
   "outputs": [],
   "source": [
    "#Logistic regression CountVectorizer\n",
    "lgcv=LogisticRegression(solver=\"liblinear\")\n",
    "\n",
    "lgcv.fit(X_train_cv, y_train)\n",
    "Y_predlgcv = lgcv.predict(X_test_cv)\n",
    "\n",
    "acc_lgcv_train = round(lgcv.score(X_train_cv, y_train) * 100, 2)"
   ]
  },
  {
   "cell_type": "code",
   "execution_count": 28,
   "id": "0d7902ab-e5a1-4317-905b-dc1137b47e3a",
   "metadata": {},
   "outputs": [],
   "source": [
    "#Logistic Regression Tfidf\n",
    "lgtf=LogisticRegression(solver=\"liblinear\")\n",
    "\n",
    "\n",
    "lgtf.fit(X_train_tfidf, y_train)\n",
    "Y_predlgtf = lgtf.predict(X_test_tfidf)\n",
    "\n",
    "\n",
    "acc_lgtf_train = round(lgtf.score(X_train_tfidf, y_train) * 100, 2)"
   ]
  },
  {
   "cell_type": "code",
   "execution_count": 29,
   "id": "848fb8f5-2e47-497b-ab82-9a03670d97e1",
   "metadata": {},
   "outputs": [],
   "source": [
    "#MultinomialNB Counvectorizer AND Tfid\n",
    "mnbcv = MultinomialNB()\n",
    "mnbcv.fit(X_train_cv, y_train)\n",
    "\n",
    "mnbtf = MultinomialNB()\n",
    "mnbtf.fit(X_train_tfidf, y_train)\n",
    "\n",
    "y_pred_cv_mnb = mnbcv.predict(X_test_cv)\n",
    "y_pred_tf_mnb = mnbtf.predict(X_test_tfidf)\n",
    "\n",
    "acc_mnbcv_train = round(mnbcv.score(X_train_cv, y_train) * 100, 2)\n",
    "acc_mnbtf_train = round(mnbtf.score(X_train_tfidf, y_train) * 100, 2)"
   ]
  },
  {
   "cell_type": "code",
   "execution_count": 30,
   "id": "ccc47285-c4f8-4575-8128-b3abd10a794e",
   "metadata": {},
   "outputs": [],
   "source": [
    "#BernoulNB Counvectorizer AND Tfid\n",
    "\n",
    "bnbcv = BernoulliNB()\n",
    "bnbcv.fit(X_train_cv, y_train)\n",
    "\n",
    "bnbtf = BernoulliNB()\n",
    "bnbtf.fit(X_train_tfidf, y_train)\n",
    "\n",
    "y_pred_cv_bnb = bnbcv.predict(X_test_cv)\n",
    "y_pred_tf_bnb = bnbtf.predict(X_test_tfidf)\n",
    "\n",
    "acc_bnbcv_train = round(bnbcv.score(X_train_cv, y_train) * 100, 2)\n",
    "acc_bnbtf_train = round(bnbtf.score(X_train_tfidf, y_train) * 100, 2)\n"
   ]
  },
  {
   "cell_type": "code",
   "execution_count": 31,
   "id": "ce8ef208-eb84-4964-811b-315a83469a2e",
   "metadata": {},
   "outputs": [],
   "source": [
    "xgb = XGBClassifier()\n",
    "xgbcv=xgb.fit(X_train_cv, y_train)\n",
    "\n",
    "xgb = XGBClassifier()\n",
    "xgbtf=xgb.fit(X_train_tfidf, y_train)\n",
    "\n",
    "y_pred_cv_xgb = xgbcv.predict(X_test_cv)\n",
    "y_pred_tf_xgb = xgbtf.predict(X_test_tfidf)\n",
    "\n",
    "acc_xgbcv_train = round(xgbcv.score(X_train_cv, y_train) * 100, 2)\n",
    "acc_xgbtf_train = round(xgbtf.score(X_train_tfidf, y_train) * 100, 2)"
   ]
  },
  {
   "cell_type": "code",
   "execution_count": 32,
   "id": "ea6ec8ba-56a3-4c5c-9839-ad0071b79246",
   "metadata": {},
   "outputs": [
    {
     "data": {
      "text/html": [
       "<div>\n",
       "<style scoped>\n",
       "    .dataframe tbody tr th:only-of-type {\n",
       "        vertical-align: middle;\n",
       "    }\n",
       "\n",
       "    .dataframe tbody tr th {\n",
       "        vertical-align: top;\n",
       "    }\n",
       "\n",
       "    .dataframe thead th {\n",
       "        text-align: right;\n",
       "    }\n",
       "</style>\n",
       "<table border=\"1\" class=\"dataframe\">\n",
       "  <thead>\n",
       "    <tr style=\"text-align: right;\">\n",
       "      <th></th>\n",
       "      <th>Test Counter Vecterized</th>\n",
       "      <th>Test TFID Vectorizer</th>\n",
       "    </tr>\n",
       "    <tr>\n",
       "      <th>Model</th>\n",
       "      <th></th>\n",
       "      <th></th>\n",
       "    </tr>\n",
       "  </thead>\n",
       "  <tbody>\n",
       "    <tr>\n",
       "      <th>Logistic Regression</th>\n",
       "      <td>99.97</td>\n",
       "      <td>99.66</td>\n",
       "    </tr>\n",
       "    <tr>\n",
       "      <th>XGBoost Classifier</th>\n",
       "      <td>99.71</td>\n",
       "      <td>99.66</td>\n",
       "    </tr>\n",
       "    <tr>\n",
       "      <th>Multinomial Naive Bayes</th>\n",
       "      <td>98.74</td>\n",
       "      <td>97.31</td>\n",
       "    </tr>\n",
       "    <tr>\n",
       "      <th>Bernoulli Naive Bayes</th>\n",
       "      <td>87.41</td>\n",
       "      <td>86.67</td>\n",
       "    </tr>\n",
       "  </tbody>\n",
       "</table>\n",
       "</div>"
      ],
      "text/plain": [
       "                          Test Counter Vecterized  Test TFID Vectorizer\n",
       "Model                                                                  \n",
       "Logistic Regression                         99.97                 99.66\n",
       "XGBoost Classifier                          99.71                 99.66\n",
       "Multinomial Naive Bayes                     98.74                 97.31\n",
       "Bernoulli Naive Bayes                       87.41                 86.67"
      ]
     },
     "execution_count": 32,
     "metadata": {},
     "output_type": "execute_result"
    }
   ],
   "source": [
    "results = pd.DataFrame({\n",
    "    'Model': ['Logistic Regression', 'Multinomial Naive Bayes ', \n",
    "               'Bernoulli Naive Bayes ', 'XGBoost Classifier'],\n",
    "    'Test Counter Vecterized': [acc_lgcv_train, acc_mnbcv_train, acc_bnbcv_train, acc_xgbcv_train\n",
    "                                ],\n",
    "    'Test TFID Vectorizer': [acc_lgtf_train, acc_mnbtf_train, acc_bnbtf_train, acc_xgbtf_train\n",
    "                          ]})\n",
    "\n",
    "result_df = results.sort_values(by='Test TFID Vectorizer', ascending=False)\n",
    "result_df = result_df.set_index('Model')\n",
    "result_df"
   ]
  },
  {
   "cell_type": "code",
   "execution_count": 33,
   "id": "6c0632f6-d25c-49e2-b52b-3a71eaa345bd",
   "metadata": {},
   "outputs": [],
   "source": [
    "#Confisuan matrix\n",
    "\n",
    "def conf_matrix(actual, predicted):\n",
    "    plt.figure(figsize=[8,8])\n",
    "    cm = confusion_matrix(actual, predicted)\n",
    "    sns.heatmap(cm, xticklabels=['Predicted Negative', 'Predicted Positive'], \n",
    "                yticklabels=['Actual Negative', 'Actual Positive'], annot=True,\n",
    "                fmt='d', annot_kws={'fontsize':35}, cmap=\"YlGnBu\", square=True);\n",
    "\n",
    "    accuracy = accuracy_score(actual, predicted)\n",
    "    precision = precision_score(actual, predicted,pos_label='Positive', zero_division=1)\n",
    "    recall = recall_score(actual, predicted, pos_label='Negative', zero_division=1)\n",
    "    f1 = f1_score(actual, predicted, pos_label='Negative', zero_division=1)\n",
    "    # pos_label parametresi precision, recall ve f1 score unu görmek istediğimiz labelı soruyor\n",
    "    # zero_division parametresi 0'a bölme işlemini gerçekleşirse uyarı verip vermeyeceğini soruyor (1=uyarı verme)\n",
    "\n",
    "    cm_results = [accuracy, precision, recall, f1]\n",
    "    return cm_results"
   ]
  },
  {
   "cell_type": "code",
   "execution_count": 34,
   "id": "b99aefe0-79d3-4b75-bad1-c2c1b3dc798b",
   "metadata": {},
   "outputs": [
    {
     "data": {
      "image/png": "[encoded data removed]",
      "text/plain": [
       "<Figure size 2800x300 with 8 Axes>"
      ]
     },
     "metadata": {},
     "output_type": "display_data"
    }
   ],
   "source": [
    "cmlgcv  =  confusion_matrix(y_test, Y_predlgcv)\n",
    "cmlgtf  =  confusion_matrix(y_test, Y_predlgtf)\n",
    "cmmnbcv =  confusion_matrix(y_test, y_pred_cv_mnb)\n",
    "cmmnbtf =  confusion_matrix(y_test, y_pred_tf_mnb)\n",
    "cmbnbcv =  confusion_matrix(y_test, y_pred_cv_bnb)\n",
    "cmbnbtf =  confusion_matrix(y_test, y_pred_tf_bnb)\n",
    "cmxgbcv =  confusion_matrix(y_test, y_pred_cv_xgb)\n",
    "cmxgbtf =  confusion_matrix(y_test, y_pred_tf_xgb)\n",
    "\n",
    "classifiers = {'Logistic Regression Counter Vectorizer':cmlgcv, \n",
    "               'Logistic Regression TFID Vectorizer':cmlgtf,\n",
    "               'Multinomial Naive Bayes Counter Vecterized':cmmnbcv,\n",
    "               'Multinomial Naive Bayes TFID Vectorizer':cmmnbtf,\n",
    "               'Bernoulli Naive Bayes Counter Vecterized':cmbnbcv,\n",
    "               'Bernoulli Naive Bayes TFID Vectorizer':cmbnbtf,\n",
    "               'XGBoost Classifier Counter Vecterized':cmxgbcv,\n",
    "               'XGBoost Classifier TFID Vectorizer':cmxgbtf,\n",
    "}\n",
    "\n",
    "fig, axn = plt.subplots(1,8, sharey='row',figsize=(28,3))\n",
    "\n",
    "for i, ax in enumerate(axn.flat):\n",
    "    k = list(classifiers)[i]\n",
    "    sns.heatmap(classifiers[k], ax=ax, annot = True, cmap = 'crest', cbar = False, fmt=\"d\", xticklabels=['Not Spam', 'Spam'], yticklabels=['Not Spam', 'Spam'])\n",
    "    ax.set_title(k,fontsize=8)"
   ]
  },
  {
   "cell_type": "code",
   "execution_count": 35,
   "id": "70b45910-01f3-496e-9d29-47b5e924c12d",
   "metadata": {},
   "outputs": [],
   "source": [
    "#rlgcv  =  classification_report(y_test, Y_predlgcv)\n",
    "#rlgtf  =  classification_report(y_test, Y_predlgtf)\n",
    "#rmnbcv =  classification_report(y_test, y_pred_cv_mnb)\n",
    "#rmnbtf =  classification_report(y_test, y_pred_tf_mnb)\n",
    "#rbnbcv =  classification_report(y_test, y_pred_cv_bnb)\n",
    "#rbnbtf =  classification_report(y_test, y_pred_tf_bnb)\n",
    "#rxgbcv =  classification_report(y_test, y_pred_cv_xgb)\n",
    "#rxgbtf =  classification_report(y_test, y_pred_tf_xgb)\n"
   ]
  },
  {
   "cell_type": "code",
   "execution_count": 36,
   "id": "f43b8118-0e6b-42c0-b7db-10b8b2fe78b2",
   "metadata": {},
   "outputs": [
    {
     "data": {
      "image/png": "[encoded data removed]",
      "text/plain": [
       "<Figure size 800x550 with 2 Axes>"
      ]
     },
     "metadata": {},
     "output_type": "display_data"
    }
   ],
   "source": [
    "from yellowbrick.classifier import ClassificationReport\n",
    "\n",
    "classes = [\"Not Spam\", \"Spam\"]\n",
    "\n",
    "# Instantiate the visualizer\n",
    "visualizer = ClassificationReport(lgtf,classes=classes, support=True)\n",
    "visualizer.fit(X_train_tfidf, y_train)        # Fit the visualizer and the model\n",
    "visualizer.score(X_test_tfidf, y_test)        # Evaluate the model on the test data\n",
    "plt.rcParams['figure.figsize'] = [6, 4]\n",
    "visualizer.show();    "
   ]
  },
  {
   "cell_type": "markdown",
   "id": "fec356f4-631e-4169-b8e7-ca0dc83ba088",
   "metadata": {},
   "source": [
    "## Conclusion\n",
    "I find 410 spam mails and choose Logistic regression TFID Vectorizer the result.**"
   ]
  },
  {
   "cell_type": "code",
   "execution_count": 40,
   "id": "915eb495-4463-416e-9c1e-892ff1383994",
   "metadata": {},
   "outputs": [],
   "source": [
    "# LogisticRegression Pipeline\n",
    "pipe_lr = Pipeline(steps=[('Tf',TfidfVectorizer()),('lr',LogisticRegression())])"
   ]
  },
  {
   "cell_type": "code",
   "execution_count": 41,
   "id": "94923242-1166-4c92-b62b-10d1f3d16c8d",
   "metadata": {},
   "outputs": [
    {
     "data": {
      "text/html": [
       "<style>#sk-container-id-1 {color: black;background-color: white;}#sk-container-id-1 pre{padding: 0;}#sk-container-id-1 div.sk-toggleable {background-color: white;}#sk-container-id-1 label.sk-toggleable__label {cursor: pointer;display: block;width: 100%;margin-bottom: 0;padding: 0.3em;box-sizing: border-box;text-align: center;}#sk-container-id-1 label.sk-toggleable__label-arrow:before {content: \"▸\";float: left;margin-right: 0.25em;color: #696969;}#sk-container-id-1 label.sk-toggleable__label-arrow:hover:before {color: black;}#sk-container-id-1 div.sk-estimator:hover label.sk-toggleable__label-arrow:before {color: black;}#sk-container-id-1 div.sk-toggleable__content {max-height: 0;max-width: 0;overflow: hidden;text-align: left;background-color: #f0f8ff;}#sk-container-id-1 div.sk-toggleable__content pre {margin: 0.2em;color: black;border-radius: 0.25em;background-color: #f0f8ff;}#sk-container-id-1 input.sk-toggleable__control:checked~div.sk-toggleable__content {max-height: 200px;max-width: 100%;overflow: auto;}#sk-container-id-1 input.sk-toggleable__control:checked~label.sk-toggleable__label-arrow:before {content: \"▾\";}#sk-container-id-1 div.sk-estimator input.sk-toggleable__control:checked~label.sk-toggleable__label {background-color: #d4ebff;}#sk-container-id-1 div.sk-label input.sk-toggleable__control:checked~label.sk-toggleable__label {background-color: #d4ebff;}#sk-container-id-1 input.sk-hidden--visually {border: 0;clip: rect(1px 1px 1px 1px);clip: rect(1px, 1px, 1px, 1px);height: 1px;margin: -1px;overflow: hidden;padding: 0;position: absolute;width: 1px;}#sk-container-id-1 div.sk-estimator {font-family: monospace;background-color: #f0f8ff;border: 1px dotted black;border-radius: 0.25em;box-sizing: border-box;margin-bottom: 0.5em;}#sk-container-id-1 div.sk-estimator:hover {background-color: #d4ebff;}#sk-container-id-1 div.sk-parallel-item::after {content: \"\";width: 100%;border-bottom: 1px solid gray;flex-grow: 1;}#sk-container-id-1 div.sk-label:hover label.sk-toggleable__label {background-color: #d4ebff;}#sk-container-id-1 div.sk-serial::before {content: \"\";position: absolute;border-left: 1px solid gray;box-sizing: border-box;top: 0;bottom: 0;left: 50%;z-index: 0;}#sk-container-id-1 div.sk-serial {display: flex;flex-direction: column;align-items: center;background-color: white;padding-right: 0.2em;padding-left: 0.2em;position: relative;}#sk-container-id-1 div.sk-item {position: relative;z-index: 1;}#sk-container-id-1 div.sk-parallel {display: flex;align-items: stretch;justify-content: center;background-color: white;position: relative;}#sk-container-id-1 div.sk-item::before, #sk-container-id-1 div.sk-parallel-item::before {content: \"\";position: absolute;border-left: 1px solid gray;box-sizing: border-box;top: 0;bottom: 0;left: 50%;z-index: -1;}#sk-container-id-1 div.sk-parallel-item {display: flex;flex-direction: column;z-index: 1;position: relative;background-color: white;}#sk-container-id-1 div.sk-parallel-item:first-child::after {align-self: flex-end;width: 50%;}#sk-container-id-1 div.sk-parallel-item:last-child::after {align-self: flex-start;width: 50%;}#sk-container-id-1 div.sk-parallel-item:only-child::after {width: 0;}#sk-container-id-1 div.sk-dashed-wrapped {border: 1px dashed gray;margin: 0 0.4em 0.5em 0.4em;box-sizing: border-box;padding-bottom: 0.4em;background-color: white;}#sk-container-id-1 div.sk-label label {font-family: monospace;font-weight: bold;display: inline-block;line-height: 1.2em;}#sk-container-id-1 div.sk-label-container {text-align: center;}#sk-container-id-1 div.sk-container {/* jupyter's `normalize.less` sets `[hidden] { display: none; }` but bootstrap.min.css set `[hidden] { display: none !important; }` so we also need the `!important` here to be able to override the default hidden behavior on the sphinx rendered scikit-learn.org. See: https://github.com/scikit-learn/scikit-learn/issues/21755 */display: inline-block !important;position: relative;}#sk-container-id-1 div.sk-text-repr-fallback {display: none;}</style><div id=\"sk-container-id-1\" class=\"sk-top-container\"><div class=\"sk-text-repr-fallback\"><pre>Pipeline(steps=[(&#x27;Tf&#x27;, TfidfVectorizer()), (&#x27;lr&#x27;, LogisticRegression())])</pre><b>In a Jupyter environment, please rerun this cell to show the HTML representation or trust the notebook. <br />On GitHub, the HTML representation is unable to render, please try loading this page with nbviewer.org.</b></div><div class=\"sk-container\" hidden><div class=\"sk-item sk-dashed-wrapped\"><div class=\"sk-label-container\"><div class=\"sk-label sk-toggleable\"><input class=\"sk-toggleable__control sk-hidden--visually\" id=\"sk-estimator-id-1\" type=\"checkbox\" ><label for=\"sk-estimator-id-1\" class=\"sk-toggleable__label sk-toggleable__label-arrow\">Pipeline</label><div class=\"sk-toggleable__content\"><pre>Pipeline(steps=[(&#x27;Tf&#x27;, TfidfVectorizer()), (&#x27;lr&#x27;, LogisticRegression())])</pre></div></div></div><div class=\"sk-serial\"><div class=\"sk-item\"><div class=\"sk-estimator sk-toggleable\"><input class=\"sk-toggleable__control sk-hidden--visually\" id=\"sk-estimator-id-2\" type=\"checkbox\" ><label for=\"sk-estimator-id-2\" class=\"sk-toggleable__label sk-toggleable__label-arrow\">TfidfVectorizer</label><div class=\"sk-toggleable__content\"><pre>TfidfVectorizer()</pre></div></div></div><div class=\"sk-item\"><div class=\"sk-estimator sk-toggleable\"><input class=\"sk-toggleable__control sk-hidden--visually\" id=\"sk-estimator-id-3\" type=\"checkbox\" ><label for=\"sk-estimator-id-3\" class=\"sk-toggleable__label sk-toggleable__label-arrow\">LogisticRegression</label><div class=\"sk-toggleable__content\"><pre>LogisticRegression()</pre></div></div></div></div></div></div></div>"
      ],
      "text/plain": [
       "Pipeline(steps=[('Tf', TfidfVectorizer()), ('lr', LogisticRegression())])"
      ]
     },
     "execution_count": 41,
     "metadata": {},
     "output_type": "execute_result"
    }
   ],
   "source": [
    "pipe_lr.fit(X_train,y_train)"
   ]
  },
  {
   "cell_type": "code",
   "execution_count": 42,
   "id": "7e8f83df-07b5-46e8-9e6d-db7b76878996",
   "metadata": {},
   "outputs": [
    {
     "data": {
      "text/plain": [
       "0.9759679572763685"
      ]
     },
     "execution_count": 42,
     "metadata": {},
     "output_type": "execute_result"
    }
   ],
   "source": [
    "pipe_lr.score(X_test,y_test)"
   ]
  },
  {
   "cell_type": "code",
   "execution_count": 43,
   "id": "c8afce38-871b-450b-b1ab-4966bbc8c30c",
   "metadata": {},
   "outputs": [],
   "source": [
    "ext=\"This email spam\""
   ]
  },
  {
   "cell_type": "code",
   "execution_count": 44,
   "id": "396aec51-a6fc-438a-89c5-595b826acf3b",
   "metadata": {},
   "outputs": [
    {
     "data": {
      "text/plain": [
       "array([1], dtype=int64)"
      ]
     },
     "execution_count": 44,
     "metadata": {},
     "output_type": "execute_result"
    }
   ],
   "source": [
    "pipe_lr.predict([ext])"
   ]
  },
  {
   "cell_type": "code",
   "execution_count": 45,
   "id": "99cb3eb5-6f5c-447e-afdb-ae279442c64d",
   "metadata": {},
   "outputs": [
    {
     "data": {
      "text/plain": [
       "array([[0.23828856, 0.76171144]])"
      ]
     },
     "execution_count": 45,
     "metadata": {},
     "output_type": "execute_result"
    }
   ],
   "source": [
    "pipe_lr.predict_proba([ext])"
   ]
  },
  {
   "cell_type": "code",
   "execution_count": 46,
   "id": "1587443e-34fb-4d69-b0bc-c61575e609e3",
   "metadata": {},
   "outputs": [
    {
     "data": {
      "text/plain": [
       "array([0, 1], dtype=int64)"
      ]
     },
     "execution_count": 46,
     "metadata": {},
     "output_type": "execute_result"
    }
   ],
   "source": [
    "pipe_lr.classes_"
   ]
  },
  {
   "cell_type": "code",
   "execution_count": 47,
   "id": "03c44583-a67f-4388-8a5d-ff72eb94dbc6",
   "metadata": {},
   "outputs": [
    {
     "data": {
      "text/plain": [
       "['smap_mail_lr.pkl']"
      ]
     },
     "execution_count": 47,
     "metadata": {},
     "output_type": "execute_result"
    }
   ],
   "source": [
    "dump(pipe_lr, 'smap_mail_lr.pkl')"
   ]
  },
  {
   "cell_type": "code",
   "execution_count": null,
   "id": "138db94b-5034-4e41-8b3a-6155340cc0f3",
   "metadata": {},
   "outputs": [],
   "source": []
  }
 ],
 "metadata": {
  "kernelspec": {
   "display_name": "Python 3 (ipykernel)",
   "language": "python",
   "name": "python3"
  },
  "language_info": {
   "codemirror_mode": {
    "name": "ipython",
    "version": 3
   },
   "file_extension": ".py",
   "mimetype": "text/x-python",
   "name": "python",
   "nbconvert_exporter": "python",
   "pygments_lexer": "ipython3",
   "version": "3.9.13"
  }
 },
 "nbformat": 4,
 "nbformat_minor": 5
}
